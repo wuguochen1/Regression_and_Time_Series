{
 "cells": [
  {
   "cell_type": "markdown",
   "metadata": {},
   "source": [
    "##  Credit Card Fraud Detection Via Unsupervised Learning\n",
    "Use unsupervised learning techniques to detect fraud"
   ]
  },
  {
   "cell_type": "code",
   "execution_count": 1,
   "metadata": {},
   "outputs": [],
   "source": [
    "# Import library and read csv\n",
    "import pandas as pd\n",
    "import numpy as np\n",
    "import matplotlib.pyplot as plt"
   ]
  },
  {
   "cell_type": "markdown",
   "metadata": {},
   "source": [
    "###  K-means clustering (unlabled data)"
   ]
  },
  {
   "cell_type": "code",
   "execution_count": 2,
   "metadata": {},
   "outputs": [],
   "source": [
    "df0 = pd.read_csv('data/banksim.csv',header=0)\n",
    "df0.drop(['Unnamed: 0'], axis=1, inplace=True)\n",
    "df = pd.read_csv('data/banksim_adj.csv',header=0)\n",
    "df.drop(['Unnamed: 0'], axis=1, inplace=True)"
   ]
  },
  {
   "cell_type": "code",
   "execution_count": 3,
   "metadata": {},
   "outputs": [
    {
     "data": {
      "text/html": [
       "<div>\n",
       "<style scoped>\n",
       "    .dataframe tbody tr th:only-of-type {\n",
       "        vertical-align: middle;\n",
       "    }\n",
       "\n",
       "    .dataframe tbody tr th {\n",
       "        vertical-align: top;\n",
       "    }\n",
       "\n",
       "    .dataframe thead th {\n",
       "        text-align: right;\n",
       "    }\n",
       "</style>\n",
       "<table border=\"1\" class=\"dataframe\">\n",
       "  <thead>\n",
       "    <tr style=\"text-align: right;\">\n",
       "      <th></th>\n",
       "      <th>age</th>\n",
       "      <th>gender</th>\n",
       "      <th>category</th>\n",
       "      <th>amount</th>\n",
       "      <th>fraud</th>\n",
       "    </tr>\n",
       "  </thead>\n",
       "  <tbody>\n",
       "    <tr>\n",
       "      <th>0</th>\n",
       "      <td>3</td>\n",
       "      <td>F</td>\n",
       "      <td>es_transportation</td>\n",
       "      <td>49.71</td>\n",
       "      <td>0</td>\n",
       "    </tr>\n",
       "    <tr>\n",
       "      <th>1</th>\n",
       "      <td>4</td>\n",
       "      <td>F</td>\n",
       "      <td>es_health</td>\n",
       "      <td>39.29</td>\n",
       "      <td>0</td>\n",
       "    </tr>\n",
       "    <tr>\n",
       "      <th>2</th>\n",
       "      <td>3</td>\n",
       "      <td>F</td>\n",
       "      <td>es_transportation</td>\n",
       "      <td>18.76</td>\n",
       "      <td>0</td>\n",
       "    </tr>\n",
       "    <tr>\n",
       "      <th>3</th>\n",
       "      <td>4</td>\n",
       "      <td>M</td>\n",
       "      <td>es_transportation</td>\n",
       "      <td>13.95</td>\n",
       "      <td>0</td>\n",
       "    </tr>\n",
       "    <tr>\n",
       "      <th>4</th>\n",
       "      <td>2</td>\n",
       "      <td>M</td>\n",
       "      <td>es_transportation</td>\n",
       "      <td>49.87</td>\n",
       "      <td>0</td>\n",
       "    </tr>\n",
       "  </tbody>\n",
       "</table>\n",
       "</div>"
      ],
      "text/plain": [
       "  age gender           category  amount  fraud\n",
       "0   3      F  es_transportation   49.71      0\n",
       "1   4      F          es_health   39.29      0\n",
       "2   3      F  es_transportation   18.76      0\n",
       "3   4      M  es_transportation   13.95      0\n",
       "4   2      M  es_transportation   49.87      0"
      ]
     },
     "execution_count": 3,
     "metadata": {},
     "output_type": "execute_result"
    }
   ],
   "source": [
    "df0.head()"
   ]
  },
  {
   "cell_type": "code",
   "execution_count": 4,
   "metadata": {},
   "outputs": [
    {
     "data": {
      "text/html": [
       "<div>\n",
       "<style scoped>\n",
       "    .dataframe tbody tr th:only-of-type {\n",
       "        vertical-align: middle;\n",
       "    }\n",
       "\n",
       "    .dataframe tbody tr th {\n",
       "        vertical-align: top;\n",
       "    }\n",
       "\n",
       "    .dataframe thead th {\n",
       "        text-align: right;\n",
       "    }\n",
       "</style>\n",
       "<table border=\"1\" class=\"dataframe\">\n",
       "  <thead>\n",
       "    <tr style=\"text-align: right;\">\n",
       "      <th></th>\n",
       "      <th>age</th>\n",
       "      <th>amount</th>\n",
       "      <th>fraud</th>\n",
       "      <th>M</th>\n",
       "      <th>es_barsandrestaurants</th>\n",
       "      <th>es_contents</th>\n",
       "      <th>es_fashion</th>\n",
       "      <th>es_food</th>\n",
       "      <th>es_health</th>\n",
       "      <th>es_home</th>\n",
       "      <th>es_hotelservices</th>\n",
       "      <th>es_hyper</th>\n",
       "      <th>es_leisure</th>\n",
       "      <th>es_otherservices</th>\n",
       "      <th>es_sportsandtoys</th>\n",
       "      <th>es_tech</th>\n",
       "      <th>es_transportation</th>\n",
       "      <th>es_travel</th>\n",
       "    </tr>\n",
       "  </thead>\n",
       "  <tbody>\n",
       "    <tr>\n",
       "      <th>0</th>\n",
       "      <td>3</td>\n",
       "      <td>49.71</td>\n",
       "      <td>0</td>\n",
       "      <td>0</td>\n",
       "      <td>0</td>\n",
       "      <td>0</td>\n",
       "      <td>0</td>\n",
       "      <td>0</td>\n",
       "      <td>0</td>\n",
       "      <td>0</td>\n",
       "      <td>0</td>\n",
       "      <td>0</td>\n",
       "      <td>0</td>\n",
       "      <td>0</td>\n",
       "      <td>0</td>\n",
       "      <td>0</td>\n",
       "      <td>1</td>\n",
       "      <td>0</td>\n",
       "    </tr>\n",
       "    <tr>\n",
       "      <th>1</th>\n",
       "      <td>4</td>\n",
       "      <td>39.29</td>\n",
       "      <td>0</td>\n",
       "      <td>0</td>\n",
       "      <td>0</td>\n",
       "      <td>0</td>\n",
       "      <td>0</td>\n",
       "      <td>0</td>\n",
       "      <td>1</td>\n",
       "      <td>0</td>\n",
       "      <td>0</td>\n",
       "      <td>0</td>\n",
       "      <td>0</td>\n",
       "      <td>0</td>\n",
       "      <td>0</td>\n",
       "      <td>0</td>\n",
       "      <td>0</td>\n",
       "      <td>0</td>\n",
       "    </tr>\n",
       "    <tr>\n",
       "      <th>2</th>\n",
       "      <td>3</td>\n",
       "      <td>18.76</td>\n",
       "      <td>0</td>\n",
       "      <td>0</td>\n",
       "      <td>0</td>\n",
       "      <td>0</td>\n",
       "      <td>0</td>\n",
       "      <td>0</td>\n",
       "      <td>0</td>\n",
       "      <td>0</td>\n",
       "      <td>0</td>\n",
       "      <td>0</td>\n",
       "      <td>0</td>\n",
       "      <td>0</td>\n",
       "      <td>0</td>\n",
       "      <td>0</td>\n",
       "      <td>1</td>\n",
       "      <td>0</td>\n",
       "    </tr>\n",
       "    <tr>\n",
       "      <th>3</th>\n",
       "      <td>4</td>\n",
       "      <td>13.95</td>\n",
       "      <td>0</td>\n",
       "      <td>1</td>\n",
       "      <td>0</td>\n",
       "      <td>0</td>\n",
       "      <td>0</td>\n",
       "      <td>0</td>\n",
       "      <td>0</td>\n",
       "      <td>0</td>\n",
       "      <td>0</td>\n",
       "      <td>0</td>\n",
       "      <td>0</td>\n",
       "      <td>0</td>\n",
       "      <td>0</td>\n",
       "      <td>0</td>\n",
       "      <td>1</td>\n",
       "      <td>0</td>\n",
       "    </tr>\n",
       "    <tr>\n",
       "      <th>4</th>\n",
       "      <td>2</td>\n",
       "      <td>49.87</td>\n",
       "      <td>0</td>\n",
       "      <td>1</td>\n",
       "      <td>0</td>\n",
       "      <td>0</td>\n",
       "      <td>0</td>\n",
       "      <td>0</td>\n",
       "      <td>0</td>\n",
       "      <td>0</td>\n",
       "      <td>0</td>\n",
       "      <td>0</td>\n",
       "      <td>0</td>\n",
       "      <td>0</td>\n",
       "      <td>0</td>\n",
       "      <td>0</td>\n",
       "      <td>1</td>\n",
       "      <td>0</td>\n",
       "    </tr>\n",
       "  </tbody>\n",
       "</table>\n",
       "</div>"
      ],
      "text/plain": [
       "   age  amount  fraud  M  es_barsandrestaurants  es_contents  es_fashion  \\\n",
       "0    3   49.71      0  0                      0            0           0   \n",
       "1    4   39.29      0  0                      0            0           0   \n",
       "2    3   18.76      0  0                      0            0           0   \n",
       "3    4   13.95      0  1                      0            0           0   \n",
       "4    2   49.87      0  1                      0            0           0   \n",
       "\n",
       "   es_food  es_health  es_home  es_hotelservices  es_hyper  es_leisure  \\\n",
       "0        0          0        0                 0         0           0   \n",
       "1        0          1        0                 0         0           0   \n",
       "2        0          0        0                 0         0           0   \n",
       "3        0          0        0                 0         0           0   \n",
       "4        0          0        0                 0         0           0   \n",
       "\n",
       "   es_otherservices  es_sportsandtoys  es_tech  es_transportation  es_travel  \n",
       "0                 0                 0        0                  1          0  \n",
       "1                 0                 0        0                  0          0  \n",
       "2                 0                 0        0                  1          0  \n",
       "3                 0                 0        0                  1          0  \n",
       "4                 0                 0        0                  1          0  "
      ]
     },
     "execution_count": 4,
     "metadata": {},
     "output_type": "execute_result"
    }
   ],
   "source": [
    "df.head()"
   ]
  },
  {
   "cell_type": "code",
   "execution_count": 5,
   "metadata": {},
   "outputs": [
    {
     "data": {
      "text/plain": [
       "age                      0\n",
       "amount                   0\n",
       "fraud                    0\n",
       "M                        0\n",
       "es_barsandrestaurants    0\n",
       "es_contents              0\n",
       "es_fashion               0\n",
       "es_food                  0\n",
       "es_health                0\n",
       "es_home                  0\n",
       "es_hotelservices         0\n",
       "es_hyper                 0\n",
       "es_leisure               0\n",
       "es_otherservices         0\n",
       "es_sportsandtoys         0\n",
       "es_tech                  0\n",
       "es_transportation        0\n",
       "es_travel                0\n",
       "dtype: int64"
      ]
     },
     "execution_count": 5,
     "metadata": {},
     "output_type": "execute_result"
    }
   ],
   "source": [
    "df.isnull().sum()"
   ]
  },
  {
   "cell_type": "markdown",
   "metadata": {},
   "source": [
    "### EDA"
   ]
  },
  {
   "cell_type": "code",
   "execution_count": 6,
   "metadata": {},
   "outputs": [],
   "source": [
    "import seaborn as sns"
   ]
  },
  {
   "cell_type": "code",
   "execution_count": 7,
   "metadata": {},
   "outputs": [
    {
     "data": {
      "image/png": "[encoded data removed]",
      "text/plain": [
       "<Figure size 1080x576 with 4 Axes>"
      ]
     },
     "metadata": {
      "needs_background": "light"
     },
     "output_type": "display_data"
    }
   ],
   "source": [
    "categorical = ['age','gender','category','fraud']\n",
    "fig, ax = plt.subplots(2, 2, figsize=(15, 8))\n",
    "for variable, subplot in zip(categorical, ax.flatten()):\n",
    "    sns.countplot(df0[variable], ax=subplot)\n",
    "    for label in subplot.get_xticklabels():\n",
    "        label.set_rotation(90)"
   ]
  },
  {
   "cell_type": "code",
   "execution_count": 8,
   "metadata": {},
   "outputs": [
    {
     "data": {
      "text/html": [
       "<div>\n",
       "<style scoped>\n",
       "    .dataframe tbody tr th:only-of-type {\n",
       "        vertical-align: middle;\n",
       "    }\n",
       "\n",
       "    .dataframe tbody tr th {\n",
       "        vertical-align: top;\n",
       "    }\n",
       "\n",
       "    .dataframe thead th {\n",
       "        text-align: right;\n",
       "    }\n",
       "</style>\n",
       "<table border=\"1\" class=\"dataframe\">\n",
       "  <thead>\n",
       "    <tr style=\"text-align: right;\">\n",
       "      <th></th>\n",
       "      <th>amount</th>\n",
       "      <th>fraud</th>\n",
       "    </tr>\n",
       "    <tr>\n",
       "      <th>category</th>\n",
       "      <th></th>\n",
       "      <th></th>\n",
       "    </tr>\n",
       "  </thead>\n",
       "  <tbody>\n",
       "    <tr>\n",
       "      <th>es_barsandrestaurants</th>\n",
       "      <td>43.841793</td>\n",
       "      <td>0.022472</td>\n",
       "    </tr>\n",
       "    <tr>\n",
       "      <th>es_contents</th>\n",
       "      <td>55.170000</td>\n",
       "      <td>0.000000</td>\n",
       "    </tr>\n",
       "    <tr>\n",
       "      <th>es_fashion</th>\n",
       "      <td>59.780769</td>\n",
       "      <td>0.020619</td>\n",
       "    </tr>\n",
       "    <tr>\n",
       "      <th>es_food</th>\n",
       "      <td>35.216050</td>\n",
       "      <td>0.000000</td>\n",
       "    </tr>\n",
       "    <tr>\n",
       "      <th>es_health</th>\n",
       "      <td>126.604704</td>\n",
       "      <td>0.242798</td>\n",
       "    </tr>\n",
       "    <tr>\n",
       "      <th>es_home</th>\n",
       "      <td>120.688317</td>\n",
       "      <td>0.208333</td>\n",
       "    </tr>\n",
       "    <tr>\n",
       "      <th>es_hotelservices</th>\n",
       "      <td>172.756245</td>\n",
       "      <td>0.548387</td>\n",
       "    </tr>\n",
       "    <tr>\n",
       "      <th>es_hyper</th>\n",
       "      <td>46.788180</td>\n",
       "      <td>0.125000</td>\n",
       "    </tr>\n",
       "    <tr>\n",
       "      <th>es_leisure</th>\n",
       "      <td>229.757600</td>\n",
       "      <td>1.000000</td>\n",
       "    </tr>\n",
       "    <tr>\n",
       "      <th>es_otherservices</th>\n",
       "      <td>149.648960</td>\n",
       "      <td>0.600000</td>\n",
       "    </tr>\n",
       "    <tr>\n",
       "      <th>es_sportsandtoys</th>\n",
       "      <td>157.251737</td>\n",
       "      <td>0.657895</td>\n",
       "    </tr>\n",
       "    <tr>\n",
       "      <th>es_tech</th>\n",
       "      <td>132.852862</td>\n",
       "      <td>0.179487</td>\n",
       "    </tr>\n",
       "    <tr>\n",
       "      <th>es_transportation</th>\n",
       "      <td>27.422014</td>\n",
       "      <td>0.000000</td>\n",
       "    </tr>\n",
       "    <tr>\n",
       "      <th>es_travel</th>\n",
       "      <td>231.818656</td>\n",
       "      <td>0.944444</td>\n",
       "    </tr>\n",
       "    <tr>\n",
       "      <th>es_wellnessandbeauty</th>\n",
       "      <td>66.167078</td>\n",
       "      <td>0.060606</td>\n",
       "    </tr>\n",
       "  </tbody>\n",
       "</table>\n",
       "</div>"
      ],
      "text/plain": [
       "                           amount     fraud\n",
       "category                                   \n",
       "es_barsandrestaurants   43.841793  0.022472\n",
       "es_contents             55.170000  0.000000\n",
       "es_fashion              59.780769  0.020619\n",
       "es_food                 35.216050  0.000000\n",
       "es_health              126.604704  0.242798\n",
       "es_home                120.688317  0.208333\n",
       "es_hotelservices       172.756245  0.548387\n",
       "es_hyper                46.788180  0.125000\n",
       "es_leisure             229.757600  1.000000\n",
       "es_otherservices       149.648960  0.600000\n",
       "es_sportsandtoys       157.251737  0.657895\n",
       "es_tech                132.852862  0.179487\n",
       "es_transportation       27.422014  0.000000\n",
       "es_travel              231.818656  0.944444\n",
       "es_wellnessandbeauty    66.167078  0.060606"
      ]
     },
     "execution_count": 8,
     "metadata": {},
     "output_type": "execute_result"
    }
   ],
   "source": [
    "df0.groupby(['category']).mean()"
   ]
  },
  {
   "cell_type": "code",
   "execution_count": 9,
   "metadata": {},
   "outputs": [
    {
     "data": {
      "text/html": [
       "<div>\n",
       "<style scoped>\n",
       "    .dataframe tbody tr th:only-of-type {\n",
       "        vertical-align: middle;\n",
       "    }\n",
       "\n",
       "    .dataframe tbody tr th {\n",
       "        vertical-align: top;\n",
       "    }\n",
       "\n",
       "    .dataframe thead th {\n",
       "        text-align: right;\n",
       "    }\n",
       "</style>\n",
       "<table border=\"1\" class=\"dataframe\">\n",
       "  <thead>\n",
       "    <tr style=\"text-align: right;\">\n",
       "      <th></th>\n",
       "      <th>amount</th>\n",
       "      <th>fraud</th>\n",
       "      <th>M</th>\n",
       "      <th>es_barsandrestaurants</th>\n",
       "      <th>es_contents</th>\n",
       "      <th>es_fashion</th>\n",
       "      <th>es_food</th>\n",
       "      <th>es_health</th>\n",
       "      <th>es_home</th>\n",
       "      <th>es_hotelservices</th>\n",
       "      <th>es_hyper</th>\n",
       "      <th>es_leisure</th>\n",
       "      <th>es_otherservices</th>\n",
       "      <th>es_sportsandtoys</th>\n",
       "      <th>es_tech</th>\n",
       "      <th>es_transportation</th>\n",
       "      <th>es_travel</th>\n",
       "    </tr>\n",
       "    <tr>\n",
       "      <th>age</th>\n",
       "      <th></th>\n",
       "      <th></th>\n",
       "      <th></th>\n",
       "      <th></th>\n",
       "      <th></th>\n",
       "      <th></th>\n",
       "      <th></th>\n",
       "      <th></th>\n",
       "      <th></th>\n",
       "      <th></th>\n",
       "      <th></th>\n",
       "      <th></th>\n",
       "      <th></th>\n",
       "      <th></th>\n",
       "      <th></th>\n",
       "      <th></th>\n",
       "      <th></th>\n",
       "    </tr>\n",
       "  </thead>\n",
       "  <tbody>\n",
       "    <tr>\n",
       "      <th>0</th>\n",
       "      <td>49.468935</td>\n",
       "      <td>0.050000</td>\n",
       "      <td>0.225000</td>\n",
       "      <td>0.050000</td>\n",
       "      <td>0.000000</td>\n",
       "      <td>0.000000</td>\n",
       "      <td>0.050000</td>\n",
       "      <td>0.075000</td>\n",
       "      <td>0.000000</td>\n",
       "      <td>0.025000</td>\n",
       "      <td>0.025000</td>\n",
       "      <td>0.000000</td>\n",
       "      <td>0.000000</td>\n",
       "      <td>0.050000</td>\n",
       "      <td>0.000000</td>\n",
       "      <td>0.700000</td>\n",
       "      <td>0.000000</td>\n",
       "    </tr>\n",
       "    <tr>\n",
       "      <th>1</th>\n",
       "      <td>35.622829</td>\n",
       "      <td>0.026648</td>\n",
       "      <td>0.437588</td>\n",
       "      <td>0.011220</td>\n",
       "      <td>0.001403</td>\n",
       "      <td>0.007013</td>\n",
       "      <td>0.036466</td>\n",
       "      <td>0.029453</td>\n",
       "      <td>0.002805</td>\n",
       "      <td>0.004208</td>\n",
       "      <td>0.012623</td>\n",
       "      <td>0.004208</td>\n",
       "      <td>0.001403</td>\n",
       "      <td>0.016830</td>\n",
       "      <td>0.004208</td>\n",
       "      <td>0.833100</td>\n",
       "      <td>0.004208</td>\n",
       "    </tr>\n",
       "    <tr>\n",
       "      <th>2</th>\n",
       "      <td>37.228665</td>\n",
       "      <td>0.028718</td>\n",
       "      <td>0.426489</td>\n",
       "      <td>0.013716</td>\n",
       "      <td>0.002143</td>\n",
       "      <td>0.014145</td>\n",
       "      <td>0.040720</td>\n",
       "      <td>0.036862</td>\n",
       "      <td>0.003000</td>\n",
       "      <td>0.003429</td>\n",
       "      <td>0.010716</td>\n",
       "      <td>0.001286</td>\n",
       "      <td>0.000429</td>\n",
       "      <td>0.010287</td>\n",
       "      <td>0.004286</td>\n",
       "      <td>0.825547</td>\n",
       "      <td>0.002143</td>\n",
       "    </tr>\n",
       "    <tr>\n",
       "      <th>3</th>\n",
       "      <td>37.279338</td>\n",
       "      <td>0.023283</td>\n",
       "      <td>0.462165</td>\n",
       "      <td>0.011641</td>\n",
       "      <td>0.003492</td>\n",
       "      <td>0.014552</td>\n",
       "      <td>0.041909</td>\n",
       "      <td>0.030268</td>\n",
       "      <td>0.002328</td>\n",
       "      <td>0.005821</td>\n",
       "      <td>0.009313</td>\n",
       "      <td>0.001164</td>\n",
       "      <td>0.002328</td>\n",
       "      <td>0.006985</td>\n",
       "      <td>0.006985</td>\n",
       "      <td>0.837602</td>\n",
       "      <td>0.002328</td>\n",
       "    </tr>\n",
       "    <tr>\n",
       "      <th>4</th>\n",
       "      <td>36.197985</td>\n",
       "      <td>0.035966</td>\n",
       "      <td>0.469898</td>\n",
       "      <td>0.011728</td>\n",
       "      <td>0.000000</td>\n",
       "      <td>0.010946</td>\n",
       "      <td>0.045348</td>\n",
       "      <td>0.032838</td>\n",
       "      <td>0.003127</td>\n",
       "      <td>0.002346</td>\n",
       "      <td>0.013292</td>\n",
       "      <td>0.003909</td>\n",
       "      <td>0.000782</td>\n",
       "      <td>0.011728</td>\n",
       "      <td>0.004691</td>\n",
       "      <td>0.825645</td>\n",
       "      <td>0.003127</td>\n",
       "    </tr>\n",
       "    <tr>\n",
       "      <th>5</th>\n",
       "      <td>37.547521</td>\n",
       "      <td>0.023990</td>\n",
       "      <td>0.443182</td>\n",
       "      <td>0.006313</td>\n",
       "      <td>0.001263</td>\n",
       "      <td>0.016414</td>\n",
       "      <td>0.034091</td>\n",
       "      <td>0.036616</td>\n",
       "      <td>0.006313</td>\n",
       "      <td>0.005051</td>\n",
       "      <td>0.012626</td>\n",
       "      <td>0.000000</td>\n",
       "      <td>0.002525</td>\n",
       "      <td>0.010101</td>\n",
       "      <td>0.008838</td>\n",
       "      <td>0.834596</td>\n",
       "      <td>0.002525</td>\n",
       "    </tr>\n",
       "    <tr>\n",
       "      <th>6</th>\n",
       "      <td>36.700852</td>\n",
       "      <td>0.022293</td>\n",
       "      <td>0.477707</td>\n",
       "      <td>0.022293</td>\n",
       "      <td>0.000000</td>\n",
       "      <td>0.022293</td>\n",
       "      <td>0.041401</td>\n",
       "      <td>0.031847</td>\n",
       "      <td>0.006369</td>\n",
       "      <td>0.003185</td>\n",
       "      <td>0.006369</td>\n",
       "      <td>0.000000</td>\n",
       "      <td>0.003185</td>\n",
       "      <td>0.009554</td>\n",
       "      <td>0.003185</td>\n",
       "      <td>0.834395</td>\n",
       "      <td>0.000000</td>\n",
       "    </tr>\n",
       "  </tbody>\n",
       "</table>\n",
       "</div>"
      ],
      "text/plain": [
       "        amount     fraud         M  es_barsandrestaurants  es_contents  \\\n",
       "age                                                                      \n",
       "0    49.468935  0.050000  0.225000               0.050000     0.000000   \n",
       "1    35.622829  0.026648  0.437588               0.011220     0.001403   \n",
       "2    37.228665  0.028718  0.426489               0.013716     0.002143   \n",
       "3    37.279338  0.023283  0.462165               0.011641     0.003492   \n",
       "4    36.197985  0.035966  0.469898               0.011728     0.000000   \n",
       "5    37.547521  0.023990  0.443182               0.006313     0.001263   \n",
       "6    36.700852  0.022293  0.477707               0.022293     0.000000   \n",
       "\n",
       "     es_fashion   es_food  es_health   es_home  es_hotelservices  es_hyper  \\\n",
       "age                                                                          \n",
       "0      0.000000  0.050000   0.075000  0.000000          0.025000  0.025000   \n",
       "1      0.007013  0.036466   0.029453  0.002805          0.004208  0.012623   \n",
       "2      0.014145  0.040720   0.036862  0.003000          0.003429  0.010716   \n",
       "3      0.014552  0.041909   0.030268  0.002328          0.005821  0.009313   \n",
       "4      0.010946  0.045348   0.032838  0.003127          0.002346  0.013292   \n",
       "5      0.016414  0.034091   0.036616  0.006313          0.005051  0.012626   \n",
       "6      0.022293  0.041401   0.031847  0.006369          0.003185  0.006369   \n",
       "\n",
       "     es_leisure  es_otherservices  es_sportsandtoys   es_tech  \\\n",
       "age                                                             \n",
       "0      0.000000          0.000000          0.050000  0.000000   \n",
       "1      0.004208          0.001403          0.016830  0.004208   \n",
       "2      0.001286          0.000429          0.010287  0.004286   \n",
       "3      0.001164          0.002328          0.006985  0.006985   \n",
       "4      0.003909          0.000782          0.011728  0.004691   \n",
       "5      0.000000          0.002525          0.010101  0.008838   \n",
       "6      0.000000          0.003185          0.009554  0.003185   \n",
       "\n",
       "     es_transportation  es_travel  \n",
       "age                                \n",
       "0             0.700000   0.000000  \n",
       "1             0.833100   0.004208  \n",
       "2             0.825547   0.002143  \n",
       "3             0.837602   0.002328  \n",
       "4             0.825645   0.003127  \n",
       "5             0.834596   0.002525  \n",
       "6             0.834395   0.000000  "
      ]
     },
     "execution_count": 9,
     "metadata": {},
     "output_type": "execute_result"
    }
   ],
   "source": [
    "df.groupby(['age']).mean()"
   ]
  },
  {
   "cell_type": "code",
   "execution_count": 10,
   "metadata": {},
   "outputs": [
    {
     "data": {
      "image/png": "[encoded data removed]",
      "text/plain": [
       "<Figure size 432x288 with 1 Axes>"
      ]
     },
     "metadata": {
      "needs_background": "light"
     },
     "output_type": "display_data"
    }
   ],
   "source": [
    "# Create two dataframes with fraud and non-fraud data \n",
    "df_fraud = df[df.fraud == 1] \n",
    "df_non_fraud = df[df.fraud == 0]\n",
    "# Plot histograms of the amounts in fraud and non-fraud data \n",
    "plt.hist(df_fraud.amount, alpha=0.75, label='fraud')\n",
    "plt.hist(df_non_fraud.amount, alpha=0.75, label='nonfraud')\n",
    "plt.xlabel('amount')\n",
    "plt.legend()\n",
    "plt.show()\n",
    "\n"
   ]
  },
  {
   "cell_type": "markdown",
   "metadata": {},
   "source": [
    "###  Optimze the number of clusters (elbow curve)"
   ]
  },
  {
   "cell_type": "code",
   "execution_count": 11,
   "metadata": {},
   "outputs": [
    {
     "data": {
      "image/png": "[encoded data removed]",
      "text/plain": [
       "<Figure size 432x288 with 1 Axes>"
      ]
     },
     "metadata": {
      "needs_background": "light"
     },
     "output_type": "display_data"
    }
   ],
   "source": [
    "from sklearn.cluster import MiniBatchKMeans\n",
    "from sklearn.preprocessing import MinMaxScaler\n",
    "labels = df.fraud\n",
    "cols = ['age', 'amount', 'M', 'es_barsandrestaurants', 'es_contents',\n",
    "        'es_fashion', 'es_food', 'es_health', 'es_home', 'es_hotelservices',\n",
    "        'es_hyper', 'es_leisure', 'es_otherservices', 'es_sportsandtoys',\n",
    "        'es_tech', 'es_transportation', 'es_travel']\n",
    "# Take the float values of df for X\n",
    "X = df[cols].values.astype(np.float)\n",
    "# Define the scaler and apply to the data\n",
    "scaler = MinMaxScaler()\n",
    "X_scaled = scaler.fit_transform(X)\n",
    "# Define the model \n",
    "kmeans = MiniBatchKMeans(n_clusters=8, random_state=123)\n",
    "# Fit the model to the scaled data\n",
    "kmeans.fit(X_scaled)\n",
    "# Define the range of clusters to try\n",
    "clustno = range(1, 10)\n",
    "# Run MiniBatch Kmeans over the number of clusters\n",
    "kmeans = [MiniBatchKMeans(n_clusters=i) for i in clustno]\n",
    "# Obtain the score for each model\n",
    "score = [kmeans[i].fit(X_scaled).score(X_scaled) for i in range(len(kmeans))]\n",
    "# Plot the models and their respective score \n",
    "plt.plot(clustno, score)\n",
    "plt.xlabel('Number of Clusters')\n",
    "plt.ylabel('Score')\n",
    "plt.title('Elbow Curve')\n",
    "plt.show()"
   ]
  },
  {
   "cell_type": "markdown",
   "metadata": {},
   "source": [
    "### Train model and predict the fraud"
   ]
  },
  {
   "cell_type": "code",
   "execution_count": 12,
   "metadata": {},
   "outputs": [],
   "source": [
    "from sklearn.model_selection import train_test_split\n",
    "# Split the data into training and test set\n",
    "X_train, X_test, y_train, y_test = train_test_split(X_scaled, labels, test_size=0.3, random_state=123)\n",
    "\n",
    "# Define K-means model \n",
    "kmeans = MiniBatchKMeans(n_clusters=3, random_state=123).fit(X_train)\n",
    "\n",
    "# Obtain predictions and calculate distance from cluster centroid\n",
    "X_test_clusters = kmeans.predict(X_test)\n",
    "X_test_clusters_centers = kmeans.cluster_centers_\n",
    "dist = [np.linalg.norm(x-y) for x, y in zip(X_test, X_test_clusters_centers[X_test_clusters])]\n",
    "\n",
    "# Create fraud predictions based on outliers on clusters \n",
    "km_y_pred = np.array(dist)\n",
    "km_y_pred[dist >= np.percentile(dist, 93)] = 1\n",
    "km_y_pred[dist < np.percentile(dist, 93)] = 0"
   ]
  },
  {
   "cell_type": "markdown",
   "metadata": {},
   "source": [
    "### Measure performance metrics"
   ]
  },
  {
   "cell_type": "code",
   "execution_count": 13,
   "metadata": {},
   "outputs": [
    {
     "name": "stdout",
     "output_type": "stream",
     "text": [
      "0.9182999523128279\n",
      "Confusion matrix, without normalization\n"
     ]
    },
    {
     "data": {
      "image/png": "[encoded data removed]",
      "text/plain": [
       "<Figure size 432x288 with 2 Axes>"
      ]
     },
     "metadata": {
      "needs_background": "light"
     },
     "output_type": "display_data"
    }
   ],
   "source": [
    "from itertools import product\n",
    "from sklearn.metrics import r2_score, classification_report, confusion_matrix, accuracy_score, roc_auc_score, roc_curve, precision_recall_curve, average_precision_score\n",
    "\n",
    "def plot_confusion_matrix(cm, classes=['Not Fraud', 'Fraud'],\n",
    "                          normalize=False,\n",
    "                          title='Fraud Confusion matrix',\n",
    "                          cmap=plt.cm.Blues):\n",
    "    \n",
    "    if normalize:\n",
    "        cm = cm.astype('float') / cm.sum(axis=1)[:, np.newaxis]\n",
    "        print(\"Normalized confusion matrix\")\n",
    "    else:\n",
    "        print('Confusion matrix, without normalization')\n",
    "\n",
    "    plt.imshow(cm, interpolation='nearest', cmap=cmap)\n",
    "    plt.title(title)\n",
    "    plt.colorbar()\n",
    "    tick_marks = np.arange(len(classes))\n",
    "    plt.xticks(tick_marks, classes, rotation=45)\n",
    "    plt.yticks(tick_marks, classes)\n",
    "\n",
    "    fmt = '.2f' if normalize else 'd'\n",
    "    thresh = cm.max() / 2.\n",
    "    for i, j in product(range(cm.shape[0]), range(cm.shape[1])):\n",
    "        plt.text(j, i, format(cm[i, j], fmt),\n",
    "                 horizontalalignment=\"center\",\n",
    "                 color=\"white\" if cm[i, j] > thresh else \"black\")\n",
    "\n",
    "    plt.tight_layout()\n",
    "    plt.ylabel('True label')\n",
    "    plt.xlabel('Predicted label')\n",
    "    plt.show()\n",
    "\n",
    "# Obtain the ROC score\n",
    "print(roc_auc_score(y_test, km_y_pred))\n",
    "\n",
    "# Plot the confusion matrix in a figure to visualize results \n",
    "plot_confusion_matrix(confusion_matrix(y_test, km_y_pred))"
   ]
  },
  {
   "cell_type": "markdown",
   "metadata": {},
   "source": [
    "### DBSCAN \n",
    "(Density-Based Spatial Clustering of Applications with Noise)"
   ]
  },
  {
   "cell_type": "code",
   "execution_count": 14,
   "metadata": {},
   "outputs": [
    {
     "name": "stdout",
     "output_type": "stream",
     "text": [
      "Estimated number of clusters: 23\n",
      "Homogeneity: 0.612\n",
      "Silhouette Coefficient: 0.713\n"
     ]
    }
   ],
   "source": [
    "from sklearn.cluster import DBSCAN\n",
    "from sklearn.metrics import homogeneity_score, silhouette_score\n",
    "\n",
    "# Initialize and fit the DBscan model\n",
    "db = DBSCAN(eps=0.9, min_samples=10, n_jobs=-1).fit(X_scaled)\n",
    "\n",
    "# Obtain the predicted labels and calculate number of clusters\n",
    "pred_labels = db.labels_\n",
    "n_clusters = len(set(pred_labels)) - (1 if -1 in labels else 0)\n",
    "\n",
    "# Print performance metrics for DBscan\n",
    "print(f'Estimated number of clusters: {n_clusters}')\n",
    "print(f'Homogeneity: {homogeneity_score(labels, pred_labels):0.3f}')\n",
    "print(f'Silhouette Coefficient: {silhouette_score(X_scaled, pred_labels):0.3f}')"
   ]
  },
  {
   "cell_type": "code",
   "execution_count": 15,
   "metadata": {},
   "outputs": [
    {
     "name": "stdout",
     "output_type": "stream",
     "text": [
      "[3252  145 2714   55  174  119  122   98   54   15   76   15   43   25\n",
      "   51   47   42   15   25   20   19   10]\n"
     ]
    }
   ],
   "source": [
    "# Count observations in each cluster number\n",
    "counts = np.bincount(pred_labels[pred_labels >= 0])\n",
    "\n",
    "# Print the result\n",
    "print(counts)"
   ]
  },
  {
   "cell_type": "code",
   "execution_count": 16,
   "metadata": {},
   "outputs": [
    {
     "name": "stdout",
     "output_type": "stream",
     "text": [
      "The smallest clusters are clusters: [21 17  9]\n",
      "Their counts are: [10 15 15]\n"
     ]
    }
   ],
   "source": [
    "# Sort the sample counts of the clusters and take the top 3 smallest clusters\n",
    "smallest_clusters = np.argsort(counts)[:3]\n",
    "# Print the results \n",
    "print(f'The smallest clusters are clusters: {smallest_clusters}')\n",
    "# Print the counts of the smallest clusters only\n",
    "print(f'Their counts are: {counts[smallest_clusters]}')"
   ]
  },
  {
   "cell_type": "code",
   "execution_count": 17,
   "metadata": {},
   "outputs": [
    {
     "name": "stdout",
     "output_type": "stream",
     "text": [
      "Flagged Fraud     0   1\n",
      "Actual Fraud           \n",
      "0              6973  16\n",
      "1               176  24\n"
     ]
    }
   ],
   "source": [
    "# Create a dataframe of the predicted cluster numbers and fraud labels \n",
    "dfoutput = pd.DataFrame({'clusternr':pred_labels,'fraud':labels})\n",
    "\n",
    "# Create a condition flagging fraud for the smallest clusters \n",
    "dfoutput['predicted_fraud'] = np.where((dfoutput['clusternr'].isin([21, 17, 9])), 1 , 0)\n",
    "\n",
    "# Run a crosstab on the results \n",
    "print(pd.crosstab(dfoutput['fraud'], dfoutput['predicted_fraud'], rownames=['Actual Fraud'], colnames=['Flagged Fraud']))"
   ]
  }
 ],
 "metadata": {
  "kernelspec": {
   "display_name": "Python 3",
   "language": "python",
   "name": "python3"
  },
  "language_info": {
   "codemirror_mode": {
    "name": "ipython",
    "version": 3
   },
   "file_extension": ".py",
   "mimetype": "text/x-python",
   "name": "python",
   "nbconvert_exporter": "python",
   "pygments_lexer": "ipython3",
   "version": "3.8.5"
  },
  "varInspector": {
   "cols": {
    "lenName": 16,
    "lenType": 16,
    "lenVar": 40
   },
   "kernels_config": {
    "python": {
     "delete_cmd_postfix": "",
     "delete_cmd_prefix": "del ",
     "library": "var_list.py",
     "varRefreshCmd": "print(var_dic_list())"
    },
    "r": {
     "delete_cmd_postfix": ") ",
     "delete_cmd_prefix": "rm(",
     "library": "var_list.r",
     "varRefreshCmd": "cat(var_dic_list()) "
    }
   },
   "types_to_exclude": [
    "module",
    "function",
    "builtin_function_or_method",
    "instance",
    "_Feature"
   ],
   "window_display": false
  }
 },
 "nbformat": 4,
 "nbformat_minor": 4
}
